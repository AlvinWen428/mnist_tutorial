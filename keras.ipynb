{
 "cells": [
  {
   "cell_type": "markdown",
   "metadata": {},
   "source": [
    "# Keras Tutorial"
   ]
  },
  {
   "cell_type": "markdown",
   "metadata": {},
   "source": [
    "Keras is a popular deep learning framework and it's easy to get started."
   ]
  },
  {
   "cell_type": "code",
   "execution_count": 6,
   "metadata": {},
   "outputs": [],
   "source": [
    "import keras\n",
    "from keras.datasets import mnist\n",
    "from keras.models import Sequential\n",
    "from keras.layers import Dense, Dropout, Flatten, Conv2D, MaxPooling2D\n",
    "from keras.optimizers import Adam, SGD\n",
    "\n",
    "BATCH_SIZE = 128\n",
    "NUM_CLASSES = 10\n",
    "NUM_EPOCHS = 10"
   ]
  },
  {
   "cell_type": "markdown",
   "metadata": {},
   "source": [
    "First, we read the mnist data and preprocess them."
   ]
  },
  {
   "cell_type": "code",
   "execution_count": 10,
   "metadata": {},
   "outputs": [
    {
     "name": "stdout",
     "output_type": "stream",
     "text": [
      "(60000, 28, 28, 1) (10000, 28, 28, 1)\n"
     ]
    }
   ],
   "source": [
    "# download and load the data (split them between train and test sets)\n",
    "(x_train, y_train), (x_test, y_test) = mnist.load_data()\n",
    "\n",
    "# expand the channel dimension\n",
    "x_train = x_train.reshape(x_train.shape[0], 28, 28, 1)\n",
    "x_test = x_test.reshape(x_test.shape[0], 28, 28, 1)\n",
    "input_shape = (28, 28, 1)\n",
    "\n",
    "# make the value of pixels from [0, 255] to [0, 1] for further process\n",
    "x_train = x_train.astype('float32') / 255.\n",
    "x_test = x_test.astype('float32') / 255.\n",
    "\n",
    "# convert class vectors to binary class matrics\n",
    "y_train = keras.utils.to_categorical(y_train, NUM_CLASSES)\n",
    "y_test = keras.utils.to_categorical(y_test, NUM_CLASSES)"
   ]
  },
  {
   "cell_type": "markdown",
   "metadata": {},
   "source": [
    "Then, we define the model, object function and optimizer that we use to classify."
   ]
  },
  {
   "cell_type": "code",
   "execution_count": 19,
   "metadata": {},
   "outputs": [
    {
     "name": "stdout",
     "output_type": "stream",
     "text": [
      "_________________________________________________________________\n",
      "Layer (type)                 Output Shape              Param #   \n",
      "=================================================================\n",
      "conv2d_45 (Conv2D)           (None, 28, 28, 8)         80        \n",
      "_________________________________________________________________\n",
      "max_pooling2d_2 (MaxPooling2 (None, 14, 14, 8)         0         \n",
      "_________________________________________________________________\n",
      "conv2d_46 (Conv2D)           (None, 14, 14, 16)        1168      \n",
      "_________________________________________________________________\n",
      "max_pooling2d_3 (MaxPooling2 (None, 7, 7, 16)          0         \n",
      "_________________________________________________________________\n",
      "conv2d_47 (Conv2D)           (None, 7, 7, 32)          4640      \n",
      "_________________________________________________________________\n",
      "max_pooling2d_4 (MaxPooling2 (None, 4, 4, 32)          0         \n",
      "_________________________________________________________________\n",
      "flatten_8 (Flatten)          (None, 512)               0         \n",
      "_________________________________________________________________\n",
      "dense_8 (Dense)              (None, 10)                5130      \n",
      "=================================================================\n",
      "Total params: 11,018\n",
      "Trainable params: 11,018\n",
      "Non-trainable params: 0\n",
      "_________________________________________________________________\n"
     ]
    }
   ],
   "source": [
    "# define the model\n",
    "model = Sequential()\n",
    "model.add(keras.layers.convolutional.Conv2D(input_shape=(28,28,1), data_format='channels_last', kernel_size=3, strides=1, filters=8,\n",
    "                                            padding='SAME', activation='relu'))\n",
    "model.add(keras.layers.convolutional.MaxPooling2D((3,3), strides=2, padding='SAME'))  #(14,14,8)\n",
    "model.add(keras.layers.convolutional.Conv2D(kernel_size=3, strides=1, filters=16, padding='SAME', activation='relu')) #(14,14,16)\n",
    "model.add(keras.layers.convolutional.MaxPooling2D((3,3), strides=2, padding='SAME')) #(7,7,16)\n",
    "model.add(keras.layers.convolutional.Conv2D(kernel_size=3, strides=1, filters=32, padding='SAME', activation='relu')) #(7,7,32)\n",
    "model.add(keras.layers.convolutional.MaxPooling2D((3,3), strides=2, padding='SAME')) #(4,4,32)\n",
    "# model.add(keras.layers.convolutional.Conv2D(kernel_size=3, strides=1, filters=64, padding='SAME', activation='relu'))\n",
    "# model.add(keras.layers.convolutional.Conv2D(kernel_size=2, strides=2, filters=64, padding='SAME', activation='relu'))\n",
    "# model.add(keras.layers.convolutional.Conv2D(kernel_size=3, strides=1, filters=128, padding='SAME', activation='relu'))\n",
    "# model.add(keras.layers.convolutional.Conv2D(kernel_size=2, strides=2, filters=16, padding='SAME', activation='relu'))\n",
    "# model.add(keras.layers.convolutional.Conv2D(kernel_size=3, strides=1, filters=32, padding='SAME', activation='relu'))\n",
    "# model.add(keras.layers.convolutional.Conv2D(kernel_size=2, strides=2, filters=32, padding='SAME', activation='relu'))\n",
    "# model.add(keras.layers.convolutional.Conv2D(kernel_size=3, strides=1, filters=64, padding='SAME', activation='relu'))\n",
    "# model.add(keras.layers.convolutional.Conv2D(kernel_size=2, strides=2, filters=64, padding='SAME', activation='relu'))\n",
    "# model.add(keras.layers.convolutional.Conv2D(kernel_size=3, strides=1, filters=128, padding='SAME', activation='relu'))\n",
    "# model.add(keras.layers.convolutional.Conv2D(kernel_size=2, strides=2, filters=128, padding='SAME', activation='relu'))\n",
    "# model.add(keras.layers.convolutional.Conv2D(kernel_size=3, strides=1, filters=256, padding='SAME', activation='relu'))\n",
    "# model.add(keras.layers.convolutional.Conv2D(kernel_size=2, strides=2, filters=256, padding='SAME', activation='relu'))\n",
    "# model.add(keras.layers.convolutional.Conv2D(kernel_size=3, strides=1, filters=512, padding='SAME', activation='relu'))\n",
    "# model.add(keras.layers.convolutional.Conv2D(kernel_size=2, strides=2, filters=512, padding='SAME', activation='relu'))\n",
    "# model.add(keras.layers.convolutional.Conv2D(kernel_size=3, strides=1, filters=1024, padding='SAME', activation='relu'))\n",
    "# model.add(keras.layers.convolutional.Conv2D(kernel_size=2, strides=2, filters=1024, padding='SAME', activation='relu'))\n",
    "model.add(keras.layers.core.Flatten())\n",
    "model.add(keras.layers.core.Dense(units=NUM_CLASSES, activation='softmax'))\n",
    "\n",
    "model.summary()\n",
    "# define the object function, optimizer and metrics\n",
    "adam = Adam(lr= 3*1e-4)\n",
    "#rms = keras.optimizers.RMSprop(lr=0.0003, rho=0.9, epsilon=1e-08, decay=0.0)\n",
    "model.compile(optimizer=adam, loss='categorical_crossentropy', metrics=['accuracy'])"
   ]
  },
  {
   "cell_type": "markdown",
   "metadata": {},
   "source": [
    "Next, we can start to train and evaluate!"
   ]
  },
  {
   "cell_type": "code",
   "execution_count": 21,
   "metadata": {},
   "outputs": [
    {
     "name": "stdout",
     "output_type": "stream",
     "text": [
      "Epoch 1/10\n",
      "60000/60000 [==============================] - 38s 630us/step - loss: 0.0529 - acc: 0.9835\n",
      "Epoch 2/10\n",
      "60000/60000 [==============================] - 38s 628us/step - loss: 0.0501 - acc: 0.9843\n",
      "Epoch 3/10\n",
      "60000/60000 [==============================] - 49s 818us/step - loss: 0.0476 - acc: 0.9849\n",
      "Epoch 4/10\n",
      "60000/60000 [==============================] - 43s 709us/step - loss: 0.0441 - acc: 0.9860\n",
      "Epoch 5/10\n",
      "60000/60000 [==============================] - 42s 707us/step - loss: 0.0425 - acc: 0.9863\n",
      "Epoch 6/10\n",
      "60000/60000 [==============================] - 41s 685us/step - loss: 0.0407 - acc: 0.9867\n",
      "Epoch 7/10\n",
      "60000/60000 [==============================] - 41s 676us/step - loss: 0.0389 - acc: 0.9876\n",
      "Epoch 8/10\n",
      "60000/60000 [==============================] - 41s 677us/step - loss: 0.0375 - acc: 0.9880\n",
      "Epoch 9/10\n",
      "60000/60000 [==============================] - 41s 675us/step - loss: 0.0360 - acc: 0.9884\n",
      "Epoch 10/10\n",
      "60000/60000 [==============================] - 41s 681us/step - loss: 0.0342 - acc: 0.9892\n",
      "60000/60000 [==============================] - 7s 119us/step\n",
      "[0.033199990030836006, 0.98948333333333338]\n",
      "Training loss: 0.0332, Training accuracy: 0.99%\n",
      "10000/10000 [==============================] - 1s 110us/step\n",
      "[0.033562004015967248, 0.98829999999999996]\n",
      "Testing loss: 0.0336, Testing accuracy: 0.99%\n"
     ]
    }
   ],
   "source": [
    "# train\n",
    "model.fit(x = x_train, y=y_train, epochs=NUM_EPOCHS, batch_size=BATCH_SIZE, verbose=1, shuffle=True)\n",
    "\n",
    "# evaluate\n",
    "score_train = model.evaluate(x=x_train, y=y_train)\n",
    "print(score_train)\n",
    "print('Training loss: %.4f, Training accuracy: %.2f%%' % (score_train[0], score_train[1]))\n",
    "score_test = model.evaluate(x=x_test, y=y_test)\n",
    "print(score_test)\n",
    "print('Testing loss: %.4f, Testing accuracy: %.2f%%' % (score_test[0], score_test[1]))"
   ]
  },
  {
   "cell_type": "markdown",
   "metadata": {},
   "source": [
    "#### Q6:\n",
    "Please print the training and testing accuracy."
   ]
  }
 ],
 "metadata": {
  "kernelspec": {
   "display_name": "Python 3",
   "language": "python",
   "name": "python3"
  },
  "language_info": {
   "codemirror_mode": {
    "name": "ipython",
    "version": 3
   },
   "file_extension": ".py",
   "mimetype": "text/x-python",
   "name": "python",
   "nbconvert_exporter": "python",
   "pygments_lexer": "ipython3",
   "version": "3.6.6"
  }
 },
 "nbformat": 4,
 "nbformat_minor": 2
}
